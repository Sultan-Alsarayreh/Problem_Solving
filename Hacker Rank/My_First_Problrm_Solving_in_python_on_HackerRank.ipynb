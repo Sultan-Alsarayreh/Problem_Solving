{
  "cells": [
    {
      "cell_type": "markdown",
      "metadata": {
        "id": "m1N8nM5_YErj"
      },
      "source": [
        "**Q1:** Say \"Hello, World!\" With *Python* bold text"
      ]
    },
    {
      "cell_type": "code",
      "execution_count": null,
      "metadata": {
        "colab": {
          "base_uri": "https://localhost:8080/"
        },
        "id": "CSLErER7ZD4K",
        "outputId": "46e2126c-39d9-4866-d786-720364c63fda"
      },
      "outputs": [
        {
          "name": "stdout",
          "output_type": "stream",
          "text": [
            "Hello, World!\n"
          ]
        }
      ],
      "source": [
        "print(\"Hello, World!\")"
      ]
    },
    {
      "cell_type": "markdown",
      "metadata": {
        "id": "OA-Ag3hNZQNe"
      },
      "source": [
        "**Q2:**\n",
        "Given an integer. n. perform the following condiuonal actions:\n",
        "\n",
        "•If **n** is odd. print **weird**\n",
        "\n",
        "•If **n** is even and in the inclusive range of **2** to **5**, print **Not Weird**\n",
        "\n",
        "• If **n** is even and in the inclusive range of **6** to **20**. print **Weird**\n",
        "\n",
        "• If **n** is even and greater than **20**. print **Not Weird**"
      ]
    },
    {
      "cell_type": "code",
      "execution_count": null,
      "metadata": {
        "colab": {
          "base_uri": "https://localhost:8080/"
        },
        "id": "g_4m6gZoZf2U",
        "outputId": "afe95678-d481-4731-d0f8-e98a6a14a97f"
      },
      "outputs": [
        {
          "name": "stdout",
          "output_type": "stream",
          "text": [
            "10\n",
            "Weird\n"
          ]
        }
      ],
      "source": [
        "import math\n",
        "import os\n",
        "import random\n",
        "import re\n",
        "import sys\n",
        "\n",
        "if __name__ == '__main__':\n",
        "  n = int(input().strip())\n",
        "\n",
        "  if n%2!=0:\n",
        "    print(\"Weird\")\n",
        "  elif n%2==0 and 2<=n<=5:\n",
        "    print(\"Not Weird\")\n",
        "  elif n%2==0 and 6<=n<=20:\n",
        "    print(\"Weird\")\n",
        "  elif n%2==0 and n>20:\n",
        "    print(\"Not Weird\")\n"
      ]
    },
    {
      "cell_type": "markdown",
      "metadata": {
        "id": "x0IBrlMzfNTA"
      },
      "source": [
        "**Q3:**\n",
        "The provided code stub reads two integers from STDIN. **a** and **b**. Add code to print\n",
        "three lines where:\n",
        "1. The first line contains the sum of the two numbers.\n",
        "2. The second line contains the difference of the two numbers (first - second).\n",
        "3. The third line contains the product of the two nurnbers."
      ]
    },
    {
      "cell_type": "code",
      "execution_count": null,
      "metadata": {
        "id": "eluxoHdTf3AL"
      },
      "outputs": [],
      "source": [
        "if __name__ == '__main__':\n",
        "  a = int(input())\n",
        "  b = int(input())\n",
        "  print(a+b)\n",
        "  print(a-b)\n",
        "  print(a*b)\n"
      ]
    },
    {
      "cell_type": "markdown",
      "metadata": {
        "id": "n7OeaIZpg7jV"
      },
      "source": [
        "**Q4:**\n",
        "The provided code stub reads two integers, **a** and **b**, from STDIN.\n",
        "\n",
        "Add logic to print two lines. The first line should contain the result of integer\n",
        "division, **a** // **b**. The second line should contain thc result of float division, **a** / **b**.\n",
        "\n",
        "No rounding or formatting is necessary."
      ]
    },
    {
      "cell_type": "code",
      "execution_count": null,
      "metadata": {
        "id": "6VDoK2eLhMIs"
      },
      "outputs": [],
      "source": [
        "if __name__ == '__main__':\n",
        "  a = int(input())\n",
        "  b = int(input())\n",
        "  print(a//b)\n",
        "  print(a/b)"
      ]
    },
    {
      "cell_type": "markdown",
      "metadata": {
        "id": "LEN_jg3Khmdo"
      },
      "source": [
        "**Q5:** The provided code stub reads and integer. **n**, from STDIN. For all non-\n",
        "negative integers **i < n**, print **i^2**"
      ]
    },
    {
      "cell_type": "code",
      "execution_count": null,
      "metadata": {
        "id": "Xwm4-WPViYqW"
      },
      "outputs": [],
      "source": [
        "if __name__ == '__main__':\n",
        "  n = int(input())\n",
        "  for i in range(n):\n",
        "    print(i**2)"
      ]
    },
    {
      "cell_type": "markdown",
      "metadata": {
        "id": "WB33kP5Ki7fF"
      },
      "source": [
        "**Q6:** Given a year, determine whether it is a leap year. If it is a leap year. return\n",
        "the Boolean **True**, otherwise return **False**.\n",
        "\n",
        "Note that the code stub provided reads from STDIN and passes arguments to\n",
        "the is _ leap function. It is only necessary to complete the is _ leap function."
      ]
    },
    {
      "cell_type": "code",
      "execution_count": null,
      "metadata": {
        "id": "mpsYJ-6gku7F"
      },
      "outputs": [],
      "source": [
        "def is_leap(year):\n",
        "  leap = False\n",
        "  if (year%4==0 and year%100!=0) or (year%400==0):\n",
        "    leap = True\n",
        "  else:\n",
        "    leap = False\n",
        "\n",
        "  return leap\n",
        "year = int(input())\n",
        "print(is_leap(year))"
      ]
    },
    {
      "cell_type": "markdown",
      "metadata": {
        "id": "fQTCW2pGkc1p"
      },
      "source": [
        "**Q7:** Let's learn about list comprehensions! You are given three integers **z**, **y** and **z** representing the dimensions\n",
        "of a cuboid along with an integer n. Print a list of all possible coordinates given by **(i, j, k)** on a 3D grid\n",
        "where the sum of **i + j + k** is not equal to n. Here, **0 <= i <= x; 0 <= j <= y; 0 <= k <= z**. Please use list\n",
        "comprehensions rather than multiple loops, as a learning exercise."
      ]
    },
    {
      "cell_type": "code",
      "execution_count": null,
      "metadata": {
        "colab": {
          "base_uri": "https://localhost:8080/"
        },
        "id": "mKwdobRfsCcA",
        "outputId": "e0b07387-4720-45ab-9eea-f826d6bf769d"
      },
      "outputs": [
        {
          "name": "stdout",
          "output_type": "stream",
          "text": [
            "1\n",
            "1\n",
            "2\n",
            "3\n",
            "[(0, 0, 0), (0, 0, 1), (0, 0, 2), (0, 1, 0), (0, 1, 1), (1, 0, 0), (1, 0, 1), (1, 1, 0), (1, 1, 2)]\n"
          ]
        }
      ],
      "source": [
        "if __name__ == '__main__':\n",
        "  x = int(input())\n",
        "  y = int(input())\n",
        "  z = int(input())\n",
        "  n = int(input())\n",
        "result = [[i, j, k] for i in range(x + 1)\n",
        "                          for j in range(y + 1)\n",
        "                          for k in range(z + 1)\n",
        "                          if i + j + k != n]\n",
        "\n",
        "print(result)\n"
      ]
    },
    {
      "cell_type": "markdown",
      "metadata": {
        "id": "gJFt1YyTemd7"
      },
      "source": [
        "**Q8:** Given the participants' score sheet for your University Sports Day, you are required to\n",
        "find the runner-up score. You are given **n** scores. Store them in a list and find the score\n",
        "of the runner-up."
      ]
    },
    {
      "cell_type": "code",
      "execution_count": null,
      "metadata": {
        "id": "cDzKsEfMhDdb"
      },
      "outputs": [],
      "source": [
        "if __name__ == '__main__':\n",
        "  n = int(input())\n",
        "  arr = map(int, input().split())\n",
        "  result = list(set(arr))\n",
        "  result.sort()\n",
        "  print(result[-2])"
      ]
    },
    {
      "cell_type": "markdown",
      "metadata": {
        "id": "HBNGcxRWhX1X"
      },
      "source": [
        "**Q9:** Given the participants' score sheet for your University Sports Day, you are required to find the runner-up score. You are given **n** scores. Store them in a list and find the score of the runner-up."
      ]
    },
    {
      "cell_type": "code",
      "execution_count": null,
      "metadata": {
        "id": "gapZNiGmR58v"
      },
      "outputs": [],
      "source": [
        "if __name__ == '__main__':\n",
        "  n = int(input())\n",
        "  arr = map(int, input().split())\n",
        "  result = sorted(set(arr), reverse= True)[1]\n",
        "  print(result)"
      ]
    }
  ],
  "metadata": {
    "colab": {
      "provenance": []
    },
    "kernelspec": {
      "display_name": "Python 3",
      "name": "python3"
    },
    "language_info": {
      "name": "python"
    }
  },
  "nbformat": 4,
  "nbformat_minor": 0
}
